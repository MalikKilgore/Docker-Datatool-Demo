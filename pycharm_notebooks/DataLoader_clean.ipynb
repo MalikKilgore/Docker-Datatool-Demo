{
 "cells": [
  {
   "cell_type": "code",
   "execution_count": 4,
   "metadata": {},
   "outputs": [],
   "source": [
    "import mysql.connector\n",
    "import boto3\n",
    "import pandas as pd\n",
    "from trycourier import Courier\n",
    "import time\n",
    "\n",
    "# gotta delete these keys prior to upload\n",
    "mydb = mysql.connector.connect(\n",
    "  host=\"\",\n",
    "  user=\"\",\n",
    "  password=\"\",\n",
    "  database=\"\"\n",
    ")\n",
    "\n",
    "s3 = boto3.resource(\n",
    "    service_name='',\n",
    "    region_name='',\n",
    "    aws_access_key_id='',\n",
    "    aws_secret_access_key='7'\n",
    ")"
   ]
  },
  {
   "cell_type": "code",
   "execution_count": 5,
   "metadata": {},
   "outputs": [],
   "source": [
    "def scanForCSV():\n",
    "    for obj in s3.Bucket('').objects.all():\n",
    "        if str(obj.key)[-4:] == '.csv':\n",
    "            return str(obj.key)\n",
    "        \n",
    "def downloadCSV(fn):\n",
    "    csv = s3.Bucket('').Object(fn).get()\n",
    "    df = pd.read_csv(csv['Body'])\n",
    "    return fn,list(df.columns),df.values.tolist()\n",
    "\n",
    "def csvToDB(name,cols,vals):\n",
    "    #generate cols for create statement\n",
    "    cmdinp = []\n",
    "    for i in range(len(cols)):\n",
    "        if str(type(vals[0][i]))[8:11] == 'int':\n",
    "            cmdinp.append(cols[i] + \" INT(255)\")\n",
    "        elif str(type(vals[0][i]))[8:11] == 'str':\n",
    "            cmdinp.append(cols[i] + \" VARCHAR(255)\")\n",
    "        else:\n",
    "            cmdinp.append(cols[i] + \" DECIMAL(30, 4)\")\n",
    "\n",
    "    # create table\n",
    "    sqlcmd = \"CREATE TABLE IF NOT EXISTS \" + name[:-4] + \"(\"\n",
    "    j = 0\n",
    "    for i in cmdinp:\n",
    "        if j == len(cmdinp) - 1:\n",
    "            sqlcmd = sqlcmd + i\n",
    "        else:\n",
    "            sqlcmd = sqlcmd + i + \", \"\n",
    "        j=j+1\n",
    "    sqlcmd = sqlcmd + \")\"\n",
    "    mycursor = mydb.cursor()\n",
    "    mycursor.execute(sqlcmd)\n",
    "    mycursor.close()\n",
    "\n",
    "    # insert statement\n",
    "    valueamt = \" VALUES (\"\n",
    "    for i in range(len(cols)):\n",
    "        if i == len(cols) - 1:\n",
    "            valueamt = valueamt + \"%s)\"\n",
    "        else:\n",
    "            valueamt = valueamt + \"%s, \"\n",
    "    \n",
    "    insertcmd = \"INSERT INTO \" + name[:-4] + valueamt\n",
    "    mycursor = mydb.cursor()\n",
    "    mycursor.executemany(insertcmd, vals)\n",
    "    mydb.commit()\n",
    "    mycursor.close()\n",
    "    \n",
    "def notifyTeam(fn,recp):\n",
    "    client = Courier(auth_token=\"\")\n",
    "\n",
    "    resp = client.send(\n",
    "      event=\"courier-quickstart\",\n",
    "      recipient=recp,\n",
    "      brand=\"\",\n",
    "      data={\n",
    "        \"filename\": fn\n",
    "      },\n",
    "      profile={\n",
    "        \"email\": recp\n",
    "      }\n",
    ")\n",
    "    \n",
    "def deleteCSV(name):\n",
    "    s3.Object('', name).delete()"
   ]
  },
  {
   "cell_type": "code",
   "execution_count": 6,
   "metadata": {
    "scrolled": false
   },
   "outputs": [
    {
     "ename": "KeyboardInterrupt",
     "evalue": "",
     "output_type": "error",
     "traceback": [
      "\u001b[1;31m---------------------------------------------------------------------------\u001b[0m",
      "\u001b[1;31mKeyboardInterrupt\u001b[0m                         Traceback (most recent call last)",
      "\u001b[1;32m<ipython-input-6-5d1c934c61e3>\u001b[0m in \u001b[0;36m<module>\u001b[1;34m\u001b[0m\n\u001b[0;32m      7\u001b[0m         \u001b[0mnotifyTeam\u001b[0m\u001b[1;33m(\u001b[0m\u001b[0mname\u001b[0m\u001b[1;33m,\u001b[0m\u001b[1;34m\"ajkarella@gmail.com\"\u001b[0m\u001b[1;33m)\u001b[0m\u001b[1;33m\u001b[0m\u001b[1;33m\u001b[0m\u001b[0m\n\u001b[0;32m      8\u001b[0m         \u001b[0mdeleteCSV\u001b[0m\u001b[1;33m(\u001b[0m\u001b[0mname\u001b[0m\u001b[1;33m)\u001b[0m\u001b[1;33m\u001b[0m\u001b[1;33m\u001b[0m\u001b[0m\n\u001b[1;32m----> 9\u001b[1;33m     \u001b[0mtime\u001b[0m\u001b[1;33m.\u001b[0m\u001b[0msleep\u001b[0m\u001b[1;33m(\u001b[0m\u001b[1;36m1\u001b[0m\u001b[1;33m)\u001b[0m\u001b[1;33m\u001b[0m\u001b[1;33m\u001b[0m\u001b[0m\n\u001b[0m",
      "\u001b[1;31mKeyboardInterrupt\u001b[0m: "
     ]
    }
   ],
   "source": [
    "while 1:\n",
    "    csv = scanForCSV()\n",
    "    if csv:\n",
    "        name,cols,vals = downloadCSV(csv)\n",
    "        print(\"working on csv:\",name)\n",
    "        csvToDB(name,cols,vals)\n",
    "        notifyTeam(name,\"ajkarella@gmail.com\")\n",
    "        deleteCSV(name)\n",
    "    time.sleep(1)"
   ]
  },
  {
   "cell_type": "code",
   "execution_count": null,
   "metadata": {},
   "outputs": [],
   "source": []
  }
 ],
 "metadata": {
  "kernelspec": {
   "display_name": "Python 3",
   "language": "python",
   "name": "python3"
  },
  "language_info": {
   "codemirror_mode": {
    "name": "ipython",
    "version": 3
   },
   "file_extension": ".py",
   "mimetype": "text/x-python",
   "name": "python",
   "nbconvert_exporter": "python",
   "pygments_lexer": "ipython3",
   "version": "3.8.3"
  }
 },
 "nbformat": 4,
 "nbformat_minor": 4
}
