{
 "cells": [
  {
   "cell_type": "code",
   "execution_count": 1,
   "metadata": {},
   "outputs": [],
   "source": [
    "# Code concept for data ingestion tool"
   ]
  },
  {
   "cell_type": "code",
   "execution_count": 3,
   "metadata": {},
   "outputs": [],
   "source": [
    "import mysql.connector"
   ]
  },
  {
   "cell_type": "code",
   "execution_count": 22,
   "metadata": {},
   "outputs": [],
   "source": [
    "mydb = mysql.connector.connect(\n",
    "  host=\"\",\n",
    "  user=\"\",\n",
    "  password=\"\",\n",
    "  database=\"\"\n",
    ")"
   ]
  },
  {
   "cell_type": "code",
   "execution_count": 32,
   "metadata": {},
   "outputs": [
    {
     "name": "stdout",
     "output_type": "stream",
     "text": [
      "('Peter', 1)\n",
      "('Amy', 2)\n",
      "('Hannah', 3)\n",
      "('Michael', 4)\n",
      "('Sandy', 5)\n",
      "('Betty', 6)\n",
      "('Richard', 7)\n",
      "('Susan', 8)\n",
      "('Vicky', 9)\n",
      "('Ben', 10)\n"
     ]
    }
   ],
   "source": [
    "try:\n",
    "    readDB()\n",
    "except:\n",
    "    createTable()\n",
    "    insertRows()"
   ]
  },
  {
   "cell_type": "code",
   "execution_count": 31,
   "metadata": {},
   "outputs": [],
   "source": [
    "def insertRows():\n",
    "    mycursor = mydb.cursor()\n",
    "    sql = \"INSERT INTO sample_db (name, number) VALUES (%s, %s)\"\n",
    "    val = [\n",
    "  ('Peter', 1),\n",
    "  ('Amy', 2),\n",
    "  ('Hannah', 3),\n",
    "  ('Michael', 4),\n",
    "  ('Sandy', 5),\n",
    "  ('Betty', 6),\n",
    "  ('Richard', 7),\n",
    "  ('Susan', 8),\n",
    "  ('Vicky', 9),\n",
    "  ('Ben', 10)\n",
    "]\n",
    "    mycursor.executemany(sql, val)\n",
    "    mydb.commit()\n",
    "    print(mycursor.rowcount, \"records were inserted.\")\n",
    "    mycursor.close()"
   ]
  },
  {
   "cell_type": "code",
   "execution_count": 13,
   "metadata": {},
   "outputs": [],
   "source": [
    "def createTable():\n",
    "    mycursor = mydb.cursor()\n",
    "    mycursor.execute(\"CREATE TABLE sample_db (name VARCHAR(255), number SMALLINT(255))\")\n",
    "    print('table created')\n",
    "    mycursor.close()"
   ]
  },
  {
   "cell_type": "code",
   "execution_count": 21,
   "metadata": {},
   "outputs": [],
   "source": [
    "def readDB():\n",
    "    mycursor = mydb.cursor()\n",
    "    mycursor.execute(\"SELECT * FROM sample_db\")\n",
    "\n",
    "    myresult = mycursor.fetchall()\n",
    "\n",
    "    for x in myresult:\n",
    "        print(x)\n",
    "    mycursor.close()"
   ]
  },
  {
   "cell_type": "code",
   "execution_count": 24,
   "metadata": {},
   "outputs": [],
   "source": [
    "def delDB():\n",
    "    mycursor = mydb.cursor()\n",
    "    mycursor.execute(\"DROP TABLE sample_db\")\n",
    "    print('table dropped')\n",
    "    mycursor.close()"
   ]
  },
  {
   "cell_type": "code",
   "execution_count": null,
   "metadata": {},
   "outputs": [],
   "source": []
  },
  {
   "cell_type": "code",
   "execution_count": null,
   "metadata": {},
   "outputs": [],
   "source": []
  }
 ],
 "metadata": {
  "kernelspec": {
   "display_name": "Python 3",
   "language": "python",
   "name": "python3"
  },
  "language_info": {
   "codemirror_mode": {
    "name": "ipython",
    "version": 3
   },
   "file_extension": ".py",
   "mimetype": "text/x-python",
   "name": "python",
   "nbconvert_exporter": "python",
   "pygments_lexer": "ipython3",
   "version": "3.8.3"
  }
 },
 "nbformat": 4,
 "nbformat_minor": 4
}
